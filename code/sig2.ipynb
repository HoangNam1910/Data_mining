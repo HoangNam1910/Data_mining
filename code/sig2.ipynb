{
 "cells": [
  {
   "cell_type": "code",
   "execution_count": 23,
   "id": "80f2a89f",
   "metadata": {},
   "outputs": [
    {
     "name": "stdout",
     "output_type": "stream",
     "text": [
      "(60000, 28, 28)\n",
      "(60000, 36) (60000,)\n"
     ]
    },
    {
     "name": "stderr",
     "output_type": "stream",
     "text": [
      "c:\\users\\hoang nam\\appdata\\local\\programs\\python\\python39\\lib\\site-packages\\sklearn\\svm\\_base.py:985: ConvergenceWarning: Liblinear failed to converge, increase the number of iterations.\n",
      "  warnings.warn(\"Liblinear failed to converge, increase \"\n"
     ]
    },
    {
     "name": "stdout",
     "output_type": "stream",
     "text": [
      "0.8988\n"
     ]
    }
   ],
   "source": [
    "from tkinter import *\n",
    "import PIL\n",
    "from PIL import Image, ImageDraw, ImageFont\n",
    "import cv2\n",
    "import numpy as np\n",
    "from skimage.feature import hog\n",
    "from sklearn.svm import LinearSVC\n",
    "\n",
    "from keras.datasets import mnist\n",
    "from sklearn.metrics import accuracy_score\n",
    "canvas_width=160\n",
    "canvas_height=320\n",
    "gray = (255,255,255)\n",
    "def paint(event):\n",
    "    x1,y1 = (event.x-20),(event.y-20)\n",
    "    x2,y2=(event.x+20),(event.y+20)\n",
    "    c.create_oval(x1,y1,x2,y2,fill=\"black\",outline=\"black\")\n",
    "    draw.ellipse((x1,y1,x2,y2),fill=\"black\",outline=\"black\")\n",
    "def xoa():\n",
    "    global img,draw\n",
    "    img=PIL.Image.new(\"RGB\",(160,320),gray)\n",
    "    draw = ImageDraw.Draw(img)\n",
    "    c.delete(\"all\")\n",
    "    \n",
    "\n",
    "def result():\n",
    "    filename=\"C:/Users/HOANG NAM/Desktop/digit.jpg\"\n",
    "    img.save(filename)\n",
    "    lbl['text']=loadimg(filename)\n",
    "    \n",
    "\n",
    "(X_train,y_train),(X_test,y_test) = mnist.load_data()\n",
    "print(X_train.shape)\n",
    "X_train_feature = []\n",
    "for i in range(len(X_train)):\n",
    "    feature = hog(X_train[i],orientations=9,pixels_per_cell=(14,14),cells_per_block=(1,1),block_norm=\"L2\")\n",
    "    X_train_feature.append(feature)\n",
    "X_train_feature = np.array(X_train_feature,dtype = np.float32)\n",
    "\n",
    "#cho x_test\n",
    "X_test_feature = []\n",
    "for i in range(len(X_test)):\n",
    "    feature = hog(X_test[i],orientations=9,pixels_per_cell=(14,14),cells_per_block=(1,1),block_norm=\"L2\")\n",
    "    X_test_feature.append(feature)\n",
    "X_test_feature = np.array(X_test_feature,dtype=np.float32)\n",
    "model = LinearSVC(C=10)\n",
    "print(X_train_feature.shape,y_train.shape)\n",
    "model.fit(X_train_feature,y_train)\n",
    "y_pre = model.predict(X_test_feature)\n",
    "print(accuracy_score(y_test,y_pre))\n",
    "\n",
    "def loadimg(filename):\n",
    "    image = cv2.imread(filename)\n",
    "    im_gray = cv2.cvtColor(image,cv2.COLOR_BGR2GRAY)\n",
    "    im_blur = cv2.GaussianBlur(im_gray,(5,5),0)\n",
    "    im,thre = cv2.threshold(im_blur,90,255,cv2.THRESH_BINARY_INV)\n",
    "    contours,hierachy = cv2.findContours(thre,cv2.RETR_EXTERNAL,cv2.CHAIN_APPROX_SIMPLE)\n",
    "    rects = [cv2.boundingRect(cnt) for cnt in contours]\n",
    "    res=[]\n",
    "    for i in contours:\n",
    "        (x,y,w,h) = cv2.boundingRect(i)\n",
    "        cv2.rectangle(image,(x,y),(x+w,y+h),(0,255,0),3)\n",
    "        roi = thre[y:y+h,x:x+w]\n",
    "        roi = np.pad(roi,(20,20),'constant',constant_values=(0,0))\n",
    "        roi = cv2.resize(roi, (28, 28), interpolation=cv2.INTER_AREA)\n",
    "        roi = cv2.dilate(roi, (3, 3))\n",
    "        roi_hog_fd = hog(roi, orientations=9, pixels_per_cell=(14, 14), cells_per_block=(1, 1),block_norm=\"L2\")\n",
    "        nbr = model.predict(np.array([roi_hog_fd], np.float32))\n",
    "        res.append(nbr)\n",
    "        cv2.putText(image, str(int(nbr[0])), (x, y),cv2.FONT_HERSHEY_DUPLEX, 2, (0, 255, 255), 3)\n",
    "        #cv2.imshow(\"image\",image)\n",
    "    return res\n",
    "\n",
    "\n",
    "    \n",
    "master=Tk()\n",
    "master.title('paint')\n",
    "c=Canvas(master,width=canvas_width,height=canvas_height,bg=\"white\")\n",
    "c.pack()\n",
    "\n",
    "\n",
    "\n",
    "\n",
    "\n",
    "\n",
    "\n",
    "\n",
    "c.pack(expand=YES,fill=BOTH)\n",
    "c.bind('<B1-Motion>',paint)\n",
    "\n",
    "#btsave=Button(text=\"Train\",command=train,padx=50,fg=\"blue\")\n",
    "#btsave.pack()\n",
    "\n",
    "btresult=Button(text=\"result\",command=result,padx=50,fg=\"blue\")\n",
    "btresult.pack()\n",
    "\n",
    "btclear=Button(text=\"Clear\",command=xoa,padx=50,fg=\"blue\")\n",
    "btclear.pack()\n",
    "\n",
    "lbl = Label(master, text=\"\")\n",
    "lbl.pack()\n",
    "\n",
    "#message = tkinter.Lable(master,text='Press and drag mouse to draw')\n",
    "#message.pack(side=BOTTOM)\n",
    "\n",
    "master.mainloop()\n",
    "\n"
   ]
  },
  {
   "cell_type": "code",
   "execution_count": 5,
   "id": "eb36451c",
   "metadata": {},
   "outputs": [
    {
     "name": "stdout",
     "output_type": "stream",
     "text": [
      "(60000, 36)\n"
     ]
    }
   ],
   "source": [
    "from tkinter import *\n",
    "import PIL\n",
    "from PIL import Image, ImageDraw, ImageFont\n",
    "import cv2\n",
    "import numpy as np\n",
    "from skimage.feature import hog\n",
    "from sklearn.svm import LinearSVC\n",
    "from emnist import list_datasets\n",
    "from keras.datasets import mnist\n",
    "from sklearn.metrics import accuracy_score\n",
    "canvas_width=600\n",
    "canvas_height=450\n",
    "gray = (213,213,213)\n",
    "\n",
    "(X_train,y_train),(X_test,y_test) = mnist.load_data()\n",
    "X_train_feature = []\n",
    "for i in range(len(X_train)):\n",
    "    feature = hog(X_train[i],orientations=9,pixels_per_cell=(14,14),cells_per_block=(1,1),block_norm=\"L2\")\n",
    "    X_train_feature.append(feature)\n",
    "X_train_feature = np.array(X_train_feature,dtype = np.float32)\n",
    "\n",
    "\n",
    "print(X_train_feature.shape)"
   ]
  },
  {
   "cell_type": "code",
   "execution_count": 8,
   "id": "b65e67bb",
   "metadata": {},
   "outputs": [
    {
     "name": "stdout",
     "output_type": "stream",
     "text": [
      "[0.14597705 0.06785579 0.13747218 0.26354122 0.5477051  0.7018472\n",
      " 0.29945633 0.         0.0590698  0.40845728 0.17110285 0.06890634\n",
      " 0.         0.08609974 0.26966888 0.81325024 0.15503053 0.18328513\n",
      " 0.38346365 0.         0.20080999 0.54449075 0.16026378 0.30999574\n",
      " 0.6178657  0.         0.11234315 0.23777083 0.16139601 0.48159686\n",
      " 0.         0.09627864 0.07119396 0.8073707  0.11608078 0.07629193]\n"
     ]
    }
   ],
   "source": [
    "print(X_train_feature[500])"
   ]
  },
  {
   "cell_type": "code",
   "execution_count": 4,
   "id": "ae98cd93",
   "metadata": {},
   "outputs": [
    {
     "name": "stdout",
     "output_type": "stream",
     "text": [
      "[[  0   0   0   0   0   0   0   0   0   0   0   0   0   0   0   0   0   0\n",
      "    0   0   0   0   0   0   0   0   0   0]\n",
      " [  0   0   0   0   0   0   0   0   0   0   0   0   0   0   0   0   0   0\n",
      "    0   0   0   0   0   0   0   0   0   0]\n",
      " [  0   0   0   0   0   0   0   0   0   0   0   0   0   0   0   0   0   0\n",
      "    0   0   0   0   0   0   0   0   0   0]\n",
      " [  0   0   0   0   0   0   0   0   0   0   0   0   0   0   0   0   0   0\n",
      "    0   0   0   0   0   0   0   0   0   0]\n",
      " [  0   0   0   0   0   0   0   0   0   0   0   0   0   0   0   0   0   0\n",
      "    0   0   0   0   0   0   0   0   0   0]\n",
      " [  0   0   0   0   0   0   0   0   0   0   0   0   3  18  18  18 126 136\n",
      "  175  26 166 255 247 127   0   0   0   0]\n",
      " [  0   0   0   0   0   0   0   0  30  36  94 154 170 253 253 253 253 253\n",
      "  225 172 253 242 195  64   0   0   0   0]\n",
      " [  0   0   0   0   0   0   0  49 238 253 253 253 253 253 253 253 253 251\n",
      "   93  82  82  56  39   0   0   0   0   0]\n",
      " [  0   0   0   0   0   0   0  18 219 253 253 253 253 253 198 182 247 241\n",
      "    0   0   0   0   0   0   0   0   0   0]\n",
      " [  0   0   0   0   0   0   0   0  80 156 107 253 253 205  11   0  43 154\n",
      "    0   0   0   0   0   0   0   0   0   0]\n",
      " [  0   0   0   0   0   0   0   0   0  14   1 154 253  90   0   0   0   0\n",
      "    0   0   0   0   0   0   0   0   0   0]\n",
      " [  0   0   0   0   0   0   0   0   0   0   0 139 253 190   2   0   0   0\n",
      "    0   0   0   0   0   0   0   0   0   0]\n",
      " [  0   0   0   0   0   0   0   0   0   0   0  11 190 253  70   0   0   0\n",
      "    0   0   0   0   0   0   0   0   0   0]\n",
      " [  0   0   0   0   0   0   0   0   0   0   0   0  35 241 225 160 108   1\n",
      "    0   0   0   0   0   0   0   0   0   0]\n",
      " [  0   0   0   0   0   0   0   0   0   0   0   0   0  81 240 253 253 119\n",
      "   25   0   0   0   0   0   0   0   0   0]\n",
      " [  0   0   0   0   0   0   0   0   0   0   0   0   0   0  45 186 253 253\n",
      "  150  27   0   0   0   0   0   0   0   0]\n",
      " [  0   0   0   0   0   0   0   0   0   0   0   0   0   0   0  16  93 252\n",
      "  253 187   0   0   0   0   0   0   0   0]\n",
      " [  0   0   0   0   0   0   0   0   0   0   0   0   0   0   0   0   0 249\n",
      "  253 249  64   0   0   0   0   0   0   0]\n",
      " [  0   0   0   0   0   0   0   0   0   0   0   0   0   0  46 130 183 253\n",
      "  253 207   2   0   0   0   0   0   0   0]\n",
      " [  0   0   0   0   0   0   0   0   0   0   0   0  39 148 229 253 253 253\n",
      "  250 182   0   0   0   0   0   0   0   0]\n",
      " [  0   0   0   0   0   0   0   0   0   0  24 114 221 253 253 253 253 201\n",
      "   78   0   0   0   0   0   0   0   0   0]\n",
      " [  0   0   0   0   0   0   0   0  23  66 213 253 253 253 253 198  81   2\n",
      "    0   0   0   0   0   0   0   0   0   0]\n",
      " [  0   0   0   0   0   0  18 171 219 253 253 253 253 195  80   9   0   0\n",
      "    0   0   0   0   0   0   0   0   0   0]\n",
      " [  0   0   0   0  55 172 226 253 253 253 253 244 133  11   0   0   0   0\n",
      "    0   0   0   0   0   0   0   0   0   0]\n",
      " [  0   0   0   0 136 253 253 253 212 135 132  16   0   0   0   0   0   0\n",
      "    0   0   0   0   0   0   0   0   0   0]\n",
      " [  0   0   0   0   0   0   0   0   0   0   0   0   0   0   0   0   0   0\n",
      "    0   0   0   0   0   0   0   0   0   0]\n",
      " [  0   0   0   0   0   0   0   0   0   0   0   0   0   0   0   0   0   0\n",
      "    0   0   0   0   0   0   0   0   0   0]\n",
      " [  0   0   0   0   0   0   0   0   0   0   0   0   0   0   0   0   0   0\n",
      "    0   0   0   0   0   0   0   0   0   0]]\n"
     ]
    }
   ],
   "source": []
  },
  {
   "cell_type": "code",
   "execution_count": null,
   "id": "bb64a478",
   "metadata": {},
   "outputs": [],
   "source": []
  }
 ],
 "metadata": {
  "kernelspec": {
   "display_name": "Python 3",
   "language": "python",
   "name": "python3"
  },
  "language_info": {
   "codemirror_mode": {
    "name": "ipython",
    "version": 3
   },
   "file_extension": ".py",
   "mimetype": "text/x-python",
   "name": "python",
   "nbconvert_exporter": "python",
   "pygments_lexer": "ipython3",
   "version": "3.9.5"
  }
 },
 "nbformat": 4,
 "nbformat_minor": 5
}
