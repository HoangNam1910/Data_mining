{
 "cells": [
  {
   "cell_type": "code",
   "execution_count": 10,
   "id": "19b7a4bf",
   "metadata": {},
   "outputs": [
    {
     "name": "stderr",
     "output_type": "stream",
     "text": [
      "Exception in Tkinter callback\n",
      "Traceback (most recent call last):\n",
      "  File \"c:\\users\\hoang nam\\appdata\\local\\programs\\python\\python39\\lib\\tkinter\\__init__.py\", line 1892, in __call__\n",
      "    return self.func(*args)\n",
      "  File \"<ipython-input-10-ec278603630d>\", line 9, in randomlbl\n",
      "    lbl['text']=int(t)\n",
      "TypeError: int() argument must be a string, a bytes-like object or a number, not 'list'\n",
      "Exception in Tkinter callback\n",
      "Traceback (most recent call last):\n",
      "  File \"c:\\users\\hoang nam\\appdata\\local\\programs\\python\\python39\\lib\\tkinter\\__init__.py\", line 1892, in __call__\n",
      "    return self.func(*args)\n",
      "  File \"<ipython-input-10-ec278603630d>\", line 9, in randomlbl\n",
      "    lbl['text']=int(t)\n",
      "TypeError: int() argument must be a string, a bytes-like object or a number, not 'list'\n"
     ]
    }
   ],
   "source": [
    "from tkinter import *\n",
    "import random\n",
    "canvas_width=600\n",
    "canvas_height=450\n",
    "gray = (213,213,213)\n",
    "def randomlbl():\n",
    "    t= [12,3,4,5,5,6]\n",
    "    t.append(7)\n",
    "    lbl['text']=t\n",
    "master=Tk()\n",
    "master.title('paint')\n",
    "c=Canvas(master,width=canvas_width,height=canvas_height,bg=\"white\")\n",
    "c.pack()\n",
    "\n",
    "\n",
    "c.pack(expand=YES,fill=BOTH)\n",
    "\n",
    "\n",
    "\n",
    "btclear=Button(text=\"rand\",command=randomlbl,padx=50,fg=\"blue\")\n",
    "btclear.pack()\n",
    "\n",
    "lbl = Label(master, text=\"\")\n",
    "lbl.pack()\n",
    "\n",
    "#message = tkinter.Lable(master,text='Press and drag mouse to draw')\n",
    "#message.pack(side=BOTTOM)\n",
    "\n",
    "master.mainloop()\n"
   ]
  },
  {
   "cell_type": "code",
   "execution_count": null,
   "id": "32be2cf0",
   "metadata": {},
   "outputs": [],
   "source": []
  },
  {
   "cell_type": "code",
   "execution_count": null,
   "id": "73e2349d",
   "metadata": {},
   "outputs": [],
   "source": []
  }
 ],
 "metadata": {
  "kernelspec": {
   "display_name": "Python 3",
   "language": "python",
   "name": "python3"
  },
  "language_info": {
   "codemirror_mode": {
    "name": "ipython",
    "version": 3
   },
   "file_extension": ".py",
   "mimetype": "text/x-python",
   "name": "python",
   "nbconvert_exporter": "python",
   "pygments_lexer": "ipython3",
   "version": "3.9.5"
  }
 },
 "nbformat": 4,
 "nbformat_minor": 5
}
